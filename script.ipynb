{
 "cells": [
  {
   "cell_type": "code",
   "execution_count": 1,
   "id": "75aacc6a",
   "metadata": {},
   "outputs": [],
   "source": [
    "import os\n",
    "import pandas as pd\n",
    "import numpy as np"
   ]
  },
  {
   "cell_type": "code",
   "execution_count": 2,
   "id": "63062266",
   "metadata": {},
   "outputs": [
    {
     "name": "stdout",
     "output_type": "stream",
     "text": [
      "202201-divvy-tripdata.csv\n",
      "202202-divvy-tripdata.csv\n",
      "202203-divvy-tripdata.csv\n",
      "202204-divvy-tripdata.csv\n",
      "202205-divvy-tripdata.csv\n",
      "202206-divvy-tripdata.csv\n",
      "202207-divvy-tripdata.csv\n",
      "202208-divvy-tripdata.csv\n",
      "202209-divvy-publictripdata.csv\n",
      "202210-divvy-tripdata.csv\n",
      "202211-divvy-tripdata.csv\n",
      "202212-divvy-tripdata.csv\n",
      "2022_Annual_Data.csv\n"
     ]
    }
   ],
   "source": [
    "#Loading all the data from the base folder\n",
    "\n",
    "basepath = 'C:\\\\Users\\\\sarat\\\\Cyclist_CaseStudy\\\\Data\\\\csv\\\\'\n",
    "\n",
    "for entry in os.listdir(basepath):\n",
    "    if os.path.isfile(os.path.join(basepath, entry)):\n",
    "        print(entry)"
   ]
  },
  {
   "cell_type": "code",
   "execution_count": 3,
   "id": "827ee4f0",
   "metadata": {},
   "outputs": [],
   "source": [
    "# Append all the csv files to a single data frame\n",
    "\n",
    "annual_data = pd.read_csv(basepath + \"202201-divvy-tripdata.csv\")\n",
    "for file in os.listdir(basepath):\n",
    "    if os.path.isfile(os.path.join(basepath, file)) and file != \"202201-divvy-tripdata.csv\":\n",
    "        temp = pd.read_csv(basepath + file)\n",
    "        annual_data = pd.concat([temp, annual_data], ignore_index = True)"
   ]
  },
  {
   "cell_type": "code",
   "execution_count": null,
   "id": "92224bd0",
   "metadata": {},
   "outputs": [],
   "source": [
    "# Appended data to a single csv\n",
    "annual_data.to_csv(basepath + \"2022_Annual_Data.csv\")"
   ]
  },
  {
   "cell_type": "code",
   "execution_count": 4,
   "id": "60fba6d2",
   "metadata": {},
   "outputs": [
    {
     "data": {
      "text/plain": [
       "Unnamed: 0             True\n",
       "ride_id               False\n",
       "rideable_type         False\n",
       "started_at            False\n",
       "ended_at              False\n",
       "start_station_name     True\n",
       "start_station_id       True\n",
       "end_station_name       True\n",
       "end_station_id         True\n",
       "start_lat             False\n",
       "start_lng             False\n",
       "end_lat                True\n",
       "end_lng                True\n",
       "member_casual         False\n",
       "dtype: bool"
      ]
     },
     "execution_count": 4,
     "metadata": {},
     "output_type": "execute_result"
    }
   ],
   "source": [
    "# Checking for null values in the data frame\n",
    "\n",
    "annual_data.isnull().any()"
   ]
  },
  {
   "cell_type": "code",
   "execution_count": 5,
   "id": "3c4f3891",
   "metadata": {},
   "outputs": [
    {
     "data": {
      "text/plain": [
       "False    9669306\n",
       "True     1666128\n",
       "Name: start_station_name, dtype: int64"
      ]
     },
     "execution_count": 5,
     "metadata": {},
     "output_type": "execute_result"
    }
   ],
   "source": [
    "# Checking for null values in individual columns\n",
    "\n",
    "annual_data[\"start_station_name\"].isnull().value_counts()"
   ]
  },
  {
   "cell_type": "code",
   "execution_count": 4,
   "id": "59ebccf5",
   "metadata": {},
   "outputs": [
    {
     "data": {
      "text/html": [
       "<div>\n",
       "<style scoped>\n",
       "    .dataframe tbody tr th:only-of-type {\n",
       "        vertical-align: middle;\n",
       "    }\n",
       "\n",
       "    .dataframe tbody tr th {\n",
       "        vertical-align: top;\n",
       "    }\n",
       "\n",
       "    .dataframe thead th {\n",
       "        text-align: right;\n",
       "    }\n",
       "</style>\n",
       "<table border=\"1\" class=\"dataframe\">\n",
       "  <thead>\n",
       "    <tr style=\"text-align: right;\">\n",
       "      <th></th>\n",
       "      <th>Unnamed: 0</th>\n",
       "      <th>ride_id</th>\n",
       "      <th>rideable_type</th>\n",
       "      <th>started_at</th>\n",
       "      <th>ended_at</th>\n",
       "      <th>start_station_name</th>\n",
       "      <th>start_station_id</th>\n",
       "      <th>end_station_name</th>\n",
       "      <th>end_station_id</th>\n",
       "      <th>start_lat</th>\n",
       "      <th>start_lng</th>\n",
       "      <th>end_lat</th>\n",
       "      <th>end_lng</th>\n",
       "      <th>member_casual</th>\n",
       "    </tr>\n",
       "  </thead>\n",
       "  <tbody>\n",
       "    <tr>\n",
       "      <th>0</th>\n",
       "      <td>0.0</td>\n",
       "      <td>65DBD2F447EC51C2</td>\n",
       "      <td>electric_bike</td>\n",
       "      <td>2022-12-05 10:47:18</td>\n",
       "      <td>2022-12-05 10:56:34</td>\n",
       "      <td>Clifton Ave &amp; Armitage Ave</td>\n",
       "      <td>TA1307000163</td>\n",
       "      <td>Sedgwick St &amp; Webster Ave</td>\n",
       "      <td>13191</td>\n",
       "      <td>41.918244</td>\n",
       "      <td>-87.657115</td>\n",
       "      <td>41.922167</td>\n",
       "      <td>-87.638888</td>\n",
       "      <td>member</td>\n",
       "    </tr>\n",
       "    <tr>\n",
       "      <th>1</th>\n",
       "      <td>1.0</td>\n",
       "      <td>0C201AA7EA0EA1AD</td>\n",
       "      <td>classic_bike</td>\n",
       "      <td>2022-12-18 06:42:33</td>\n",
       "      <td>2022-12-18 07:08:44</td>\n",
       "      <td>Broadway &amp; Belmont Ave</td>\n",
       "      <td>13277</td>\n",
       "      <td>Sedgwick St &amp; Webster Ave</td>\n",
       "      <td>13191</td>\n",
       "      <td>41.940106</td>\n",
       "      <td>-87.645451</td>\n",
       "      <td>41.922167</td>\n",
       "      <td>-87.638888</td>\n",
       "      <td>casual</td>\n",
       "    </tr>\n",
       "    <tr>\n",
       "      <th>2</th>\n",
       "      <td>2.0</td>\n",
       "      <td>E0B148CCB358A49D</td>\n",
       "      <td>electric_bike</td>\n",
       "      <td>2022-12-13 08:47:45</td>\n",
       "      <td>2022-12-13 08:59:51</td>\n",
       "      <td>Sangamon St &amp; Lake St</td>\n",
       "      <td>TA1306000015</td>\n",
       "      <td>St. Clair St &amp; Erie St</td>\n",
       "      <td>13016</td>\n",
       "      <td>41.885919</td>\n",
       "      <td>-87.651133</td>\n",
       "      <td>41.894345</td>\n",
       "      <td>-87.622798</td>\n",
       "      <td>member</td>\n",
       "    </tr>\n",
       "    <tr>\n",
       "      <th>3</th>\n",
       "      <td>3.0</td>\n",
       "      <td>54C5775D2B7C9188</td>\n",
       "      <td>classic_bike</td>\n",
       "      <td>2022-12-13 18:50:47</td>\n",
       "      <td>2022-12-13 19:19:48</td>\n",
       "      <td>Shields Ave &amp; 31st St</td>\n",
       "      <td>KA1503000038</td>\n",
       "      <td>Damen Ave &amp; Madison St</td>\n",
       "      <td>13134</td>\n",
       "      <td>41.838464</td>\n",
       "      <td>-87.635406</td>\n",
       "      <td>41.88137</td>\n",
       "      <td>-87.67493</td>\n",
       "      <td>member</td>\n",
       "    </tr>\n",
       "    <tr>\n",
       "      <th>4</th>\n",
       "      <td>4.0</td>\n",
       "      <td>A4891F78776D35DF</td>\n",
       "      <td>classic_bike</td>\n",
       "      <td>2022-12-14 16:13:39</td>\n",
       "      <td>2022-12-14 16:27:50</td>\n",
       "      <td>Ashland Ave &amp; Chicago Ave</td>\n",
       "      <td>13247</td>\n",
       "      <td>Damen Ave &amp; Charleston St</td>\n",
       "      <td>13288</td>\n",
       "      <td>41.895954</td>\n",
       "      <td>-87.667728</td>\n",
       "      <td>41.920082</td>\n",
       "      <td>-87.677855</td>\n",
       "      <td>casual</td>\n",
       "    </tr>\n",
       "    <tr>\n",
       "      <th>...</th>\n",
       "      <td>...</td>\n",
       "      <td>...</td>\n",
       "      <td>...</td>\n",
       "      <td>...</td>\n",
       "      <td>...</td>\n",
       "      <td>...</td>\n",
       "      <td>...</td>\n",
       "      <td>...</td>\n",
       "      <td>...</td>\n",
       "      <td>...</td>\n",
       "      <td>...</td>\n",
       "      <td>...</td>\n",
       "      <td>...</td>\n",
       "      <td>...</td>\n",
       "    </tr>\n",
       "    <tr>\n",
       "      <th>11335429</th>\n",
       "      <td>NA</td>\n",
       "      <td>8788DA3EDE8FD8AB</td>\n",
       "      <td>electric_bike</td>\n",
       "      <td>2022-01-18 12:36:48</td>\n",
       "      <td>2022-01-18 12:46:19</td>\n",
       "      <td>Clinton St &amp; Washington Blvd</td>\n",
       "      <td>WL-012</td>\n",
       "      <td>NA</td>\n",
       "      <td>NA</td>\n",
       "      <td>41.883436</td>\n",
       "      <td>-87.641391</td>\n",
       "      <td>41.89</td>\n",
       "      <td>-87.62</td>\n",
       "      <td>casual</td>\n",
       "    </tr>\n",
       "    <tr>\n",
       "      <th>11335430</th>\n",
       "      <td>NA</td>\n",
       "      <td>C6C3B64FDC827D8C</td>\n",
       "      <td>electric_bike</td>\n",
       "      <td>2022-01-27 11:00:06</td>\n",
       "      <td>2022-01-27 11:02:40</td>\n",
       "      <td>Racine Ave &amp; Randolph St</td>\n",
       "      <td>13155</td>\n",
       "      <td>NA</td>\n",
       "      <td>NA</td>\n",
       "      <td>41.884158</td>\n",
       "      <td>-87.656977</td>\n",
       "      <td>41.88</td>\n",
       "      <td>-87.65</td>\n",
       "      <td>casual</td>\n",
       "    </tr>\n",
       "    <tr>\n",
       "      <th>11335431</th>\n",
       "      <td>NA</td>\n",
       "      <td>CA281AE7D8B06F5A</td>\n",
       "      <td>electric_bike</td>\n",
       "      <td>2022-01-10 16:14:51</td>\n",
       "      <td>2022-01-10 16:20:58</td>\n",
       "      <td>Broadway &amp; Waveland Ave</td>\n",
       "      <td>13325</td>\n",
       "      <td>Clark St &amp; Grace St</td>\n",
       "      <td>TA1307000127</td>\n",
       "      <td>41.949066</td>\n",
       "      <td>-87.648611</td>\n",
       "      <td>41.95078</td>\n",
       "      <td>-87.659172</td>\n",
       "      <td>casual</td>\n",
       "    </tr>\n",
       "    <tr>\n",
       "      <th>11335432</th>\n",
       "      <td>NA</td>\n",
       "      <td>44E348991862319B</td>\n",
       "      <td>electric_bike</td>\n",
       "      <td>2022-01-19 13:22:11</td>\n",
       "      <td>2022-01-19 13:24:27</td>\n",
       "      <td>Racine Ave &amp; Randolph St</td>\n",
       "      <td>13155</td>\n",
       "      <td>NA</td>\n",
       "      <td>NA</td>\n",
       "      <td>41.884005</td>\n",
       "      <td>-87.657031</td>\n",
       "      <td>41.88</td>\n",
       "      <td>-87.66</td>\n",
       "      <td>casual</td>\n",
       "    </tr>\n",
       "    <tr>\n",
       "      <th>11335433</th>\n",
       "      <td>NA</td>\n",
       "      <td>E477C594A182AE58</td>\n",
       "      <td>electric_bike</td>\n",
       "      <td>2022-01-13 17:24:43</td>\n",
       "      <td>2022-01-13 17:28:14</td>\n",
       "      <td>Clinton St &amp; Washington Blvd</td>\n",
       "      <td>WL-012</td>\n",
       "      <td>Desplaines St &amp; Kinzie St</td>\n",
       "      <td>TA1306000003</td>\n",
       "      <td>41.883248</td>\n",
       "      <td>-87.641244</td>\n",
       "      <td>41.888716</td>\n",
       "      <td>-87.644448</td>\n",
       "      <td>casual</td>\n",
       "    </tr>\n",
       "  </tbody>\n",
       "</table>\n",
       "<p>11335434 rows × 14 columns</p>\n",
       "</div>"
      ],
      "text/plain": [
       "         Unnamed: 0           ride_id  rideable_type           started_at  \\\n",
       "0               0.0  65DBD2F447EC51C2  electric_bike  2022-12-05 10:47:18   \n",
       "1               1.0  0C201AA7EA0EA1AD   classic_bike  2022-12-18 06:42:33   \n",
       "2               2.0  E0B148CCB358A49D  electric_bike  2022-12-13 08:47:45   \n",
       "3               3.0  54C5775D2B7C9188   classic_bike  2022-12-13 18:50:47   \n",
       "4               4.0  A4891F78776D35DF   classic_bike  2022-12-14 16:13:39   \n",
       "...             ...               ...            ...                  ...   \n",
       "11335429         NA  8788DA3EDE8FD8AB  electric_bike  2022-01-18 12:36:48   \n",
       "11335430         NA  C6C3B64FDC827D8C  electric_bike  2022-01-27 11:00:06   \n",
       "11335431         NA  CA281AE7D8B06F5A  electric_bike  2022-01-10 16:14:51   \n",
       "11335432         NA  44E348991862319B  electric_bike  2022-01-19 13:22:11   \n",
       "11335433         NA  E477C594A182AE58  electric_bike  2022-01-13 17:24:43   \n",
       "\n",
       "                     ended_at            start_station_name start_station_id  \\\n",
       "0         2022-12-05 10:56:34    Clifton Ave & Armitage Ave     TA1307000163   \n",
       "1         2022-12-18 07:08:44        Broadway & Belmont Ave            13277   \n",
       "2         2022-12-13 08:59:51         Sangamon St & Lake St     TA1306000015   \n",
       "3         2022-12-13 19:19:48         Shields Ave & 31st St     KA1503000038   \n",
       "4         2022-12-14 16:27:50     Ashland Ave & Chicago Ave            13247   \n",
       "...                       ...                           ...              ...   \n",
       "11335429  2022-01-18 12:46:19  Clinton St & Washington Blvd           WL-012   \n",
       "11335430  2022-01-27 11:02:40      Racine Ave & Randolph St            13155   \n",
       "11335431  2022-01-10 16:20:58       Broadway & Waveland Ave            13325   \n",
       "11335432  2022-01-19 13:24:27      Racine Ave & Randolph St            13155   \n",
       "11335433  2022-01-13 17:28:14  Clinton St & Washington Blvd           WL-012   \n",
       "\n",
       "                   end_station_name end_station_id  start_lat  start_lng  \\\n",
       "0         Sedgwick St & Webster Ave          13191  41.918244 -87.657115   \n",
       "1         Sedgwick St & Webster Ave          13191  41.940106 -87.645451   \n",
       "2            St. Clair St & Erie St          13016  41.885919 -87.651133   \n",
       "3            Damen Ave & Madison St          13134  41.838464 -87.635406   \n",
       "4         Damen Ave & Charleston St          13288  41.895954 -87.667728   \n",
       "...                             ...            ...        ...        ...   \n",
       "11335429                         NA             NA  41.883436 -87.641391   \n",
       "11335430                         NA             NA  41.884158 -87.656977   \n",
       "11335431        Clark St & Grace St   TA1307000127  41.949066 -87.648611   \n",
       "11335432                         NA             NA  41.884005 -87.657031   \n",
       "11335433  Desplaines St & Kinzie St   TA1306000003  41.883248 -87.641244   \n",
       "\n",
       "            end_lat    end_lng member_casual  \n",
       "0         41.922167 -87.638888        member  \n",
       "1         41.922167 -87.638888        casual  \n",
       "2         41.894345 -87.622798        member  \n",
       "3          41.88137  -87.67493        member  \n",
       "4         41.920082 -87.677855        casual  \n",
       "...             ...        ...           ...  \n",
       "11335429      41.89     -87.62        casual  \n",
       "11335430      41.88     -87.65        casual  \n",
       "11335431   41.95078 -87.659172        casual  \n",
       "11335432      41.88     -87.66        casual  \n",
       "11335433  41.888716 -87.644448        casual  \n",
       "\n",
       "[11335434 rows x 14 columns]"
      ]
     },
     "execution_count": 4,
     "metadata": {},
     "output_type": "execute_result"
    }
   ],
   "source": [
    "# Data Cleaning - Filling null values in the data set \n",
    "\n",
    "cleaned_annual_data = annual_data.fillna(value = \"NA\") \n",
    "cleaned_annual_data"
   ]
  },
  {
   "cell_type": "code",
   "execution_count": 5,
   "id": "3bff45b8",
   "metadata": {},
   "outputs": [
    {
     "data": {
      "text/html": [
       "<div>\n",
       "<style scoped>\n",
       "    .dataframe tbody tr th:only-of-type {\n",
       "        vertical-align: middle;\n",
       "    }\n",
       "\n",
       "    .dataframe tbody tr th {\n",
       "        vertical-align: top;\n",
       "    }\n",
       "\n",
       "    .dataframe thead th {\n",
       "        text-align: right;\n",
       "    }\n",
       "</style>\n",
       "<table border=\"1\" class=\"dataframe\">\n",
       "  <thead>\n",
       "    <tr style=\"text-align: right;\">\n",
       "      <th></th>\n",
       "      <th>Unnamed: 0</th>\n",
       "      <th>ride_id</th>\n",
       "      <th>rideable_type</th>\n",
       "      <th>started_at</th>\n",
       "      <th>ended_at</th>\n",
       "      <th>start_station_name</th>\n",
       "      <th>start_station_id</th>\n",
       "      <th>end_station_name</th>\n",
       "      <th>end_station_id</th>\n",
       "      <th>start_lat</th>\n",
       "      <th>start_lng</th>\n",
       "      <th>end_lat</th>\n",
       "      <th>end_lng</th>\n",
       "      <th>member_casual</th>\n",
       "    </tr>\n",
       "  </thead>\n",
       "  <tbody>\n",
       "    <tr>\n",
       "      <th>5667717</th>\n",
       "      <td>NA</td>\n",
       "      <td>65DBD2F447EC51C2</td>\n",
       "      <td>electric_bike</td>\n",
       "      <td>2022-12-05 10:47:18</td>\n",
       "      <td>2022-12-05 10:56:34</td>\n",
       "      <td>Clifton Ave &amp; Armitage Ave</td>\n",
       "      <td>TA1307000163</td>\n",
       "      <td>Sedgwick St &amp; Webster Ave</td>\n",
       "      <td>13191</td>\n",
       "      <td>41.918244</td>\n",
       "      <td>-87.657115</td>\n",
       "      <td>41.922167</td>\n",
       "      <td>-87.638888</td>\n",
       "      <td>member</td>\n",
       "    </tr>\n",
       "    <tr>\n",
       "      <th>5667718</th>\n",
       "      <td>NA</td>\n",
       "      <td>0C201AA7EA0EA1AD</td>\n",
       "      <td>classic_bike</td>\n",
       "      <td>2022-12-18 06:42:33</td>\n",
       "      <td>2022-12-18 07:08:44</td>\n",
       "      <td>Broadway &amp; Belmont Ave</td>\n",
       "      <td>13277</td>\n",
       "      <td>Sedgwick St &amp; Webster Ave</td>\n",
       "      <td>13191</td>\n",
       "      <td>41.940106</td>\n",
       "      <td>-87.645451</td>\n",
       "      <td>41.922167</td>\n",
       "      <td>-87.638888</td>\n",
       "      <td>casual</td>\n",
       "    </tr>\n",
       "    <tr>\n",
       "      <th>5667719</th>\n",
       "      <td>NA</td>\n",
       "      <td>E0B148CCB358A49D</td>\n",
       "      <td>electric_bike</td>\n",
       "      <td>2022-12-13 08:47:45</td>\n",
       "      <td>2022-12-13 08:59:51</td>\n",
       "      <td>Sangamon St &amp; Lake St</td>\n",
       "      <td>TA1306000015</td>\n",
       "      <td>St. Clair St &amp; Erie St</td>\n",
       "      <td>13016</td>\n",
       "      <td>41.885919</td>\n",
       "      <td>-87.651133</td>\n",
       "      <td>41.894345</td>\n",
       "      <td>-87.622798</td>\n",
       "      <td>member</td>\n",
       "    </tr>\n",
       "    <tr>\n",
       "      <th>5667720</th>\n",
       "      <td>NA</td>\n",
       "      <td>54C5775D2B7C9188</td>\n",
       "      <td>classic_bike</td>\n",
       "      <td>2022-12-13 18:50:47</td>\n",
       "      <td>2022-12-13 19:19:48</td>\n",
       "      <td>Shields Ave &amp; 31st St</td>\n",
       "      <td>KA1503000038</td>\n",
       "      <td>Damen Ave &amp; Madison St</td>\n",
       "      <td>13134</td>\n",
       "      <td>41.838464</td>\n",
       "      <td>-87.635406</td>\n",
       "      <td>41.88137</td>\n",
       "      <td>-87.67493</td>\n",
       "      <td>member</td>\n",
       "    </tr>\n",
       "    <tr>\n",
       "      <th>5667721</th>\n",
       "      <td>NA</td>\n",
       "      <td>A4891F78776D35DF</td>\n",
       "      <td>classic_bike</td>\n",
       "      <td>2022-12-14 16:13:39</td>\n",
       "      <td>2022-12-14 16:27:50</td>\n",
       "      <td>Ashland Ave &amp; Chicago Ave</td>\n",
       "      <td>13247</td>\n",
       "      <td>Damen Ave &amp; Charleston St</td>\n",
       "      <td>13288</td>\n",
       "      <td>41.895954</td>\n",
       "      <td>-87.667728</td>\n",
       "      <td>41.920082</td>\n",
       "      <td>-87.677855</td>\n",
       "      <td>casual</td>\n",
       "    </tr>\n",
       "    <tr>\n",
       "      <th>...</th>\n",
       "      <td>...</td>\n",
       "      <td>...</td>\n",
       "      <td>...</td>\n",
       "      <td>...</td>\n",
       "      <td>...</td>\n",
       "      <td>...</td>\n",
       "      <td>...</td>\n",
       "      <td>...</td>\n",
       "      <td>...</td>\n",
       "      <td>...</td>\n",
       "      <td>...</td>\n",
       "      <td>...</td>\n",
       "      <td>...</td>\n",
       "      <td>...</td>\n",
       "    </tr>\n",
       "    <tr>\n",
       "      <th>11335429</th>\n",
       "      <td>NA</td>\n",
       "      <td>8788DA3EDE8FD8AB</td>\n",
       "      <td>electric_bike</td>\n",
       "      <td>2022-01-18 12:36:48</td>\n",
       "      <td>2022-01-18 12:46:19</td>\n",
       "      <td>Clinton St &amp; Washington Blvd</td>\n",
       "      <td>WL-012</td>\n",
       "      <td>NA</td>\n",
       "      <td>NA</td>\n",
       "      <td>41.883436</td>\n",
       "      <td>-87.641391</td>\n",
       "      <td>41.89</td>\n",
       "      <td>-87.62</td>\n",
       "      <td>casual</td>\n",
       "    </tr>\n",
       "    <tr>\n",
       "      <th>11335430</th>\n",
       "      <td>NA</td>\n",
       "      <td>C6C3B64FDC827D8C</td>\n",
       "      <td>electric_bike</td>\n",
       "      <td>2022-01-27 11:00:06</td>\n",
       "      <td>2022-01-27 11:02:40</td>\n",
       "      <td>Racine Ave &amp; Randolph St</td>\n",
       "      <td>13155</td>\n",
       "      <td>NA</td>\n",
       "      <td>NA</td>\n",
       "      <td>41.884158</td>\n",
       "      <td>-87.656977</td>\n",
       "      <td>41.88</td>\n",
       "      <td>-87.65</td>\n",
       "      <td>casual</td>\n",
       "    </tr>\n",
       "    <tr>\n",
       "      <th>11335431</th>\n",
       "      <td>NA</td>\n",
       "      <td>CA281AE7D8B06F5A</td>\n",
       "      <td>electric_bike</td>\n",
       "      <td>2022-01-10 16:14:51</td>\n",
       "      <td>2022-01-10 16:20:58</td>\n",
       "      <td>Broadway &amp; Waveland Ave</td>\n",
       "      <td>13325</td>\n",
       "      <td>Clark St &amp; Grace St</td>\n",
       "      <td>TA1307000127</td>\n",
       "      <td>41.949066</td>\n",
       "      <td>-87.648611</td>\n",
       "      <td>41.95078</td>\n",
       "      <td>-87.659172</td>\n",
       "      <td>casual</td>\n",
       "    </tr>\n",
       "    <tr>\n",
       "      <th>11335432</th>\n",
       "      <td>NA</td>\n",
       "      <td>44E348991862319B</td>\n",
       "      <td>electric_bike</td>\n",
       "      <td>2022-01-19 13:22:11</td>\n",
       "      <td>2022-01-19 13:24:27</td>\n",
       "      <td>Racine Ave &amp; Randolph St</td>\n",
       "      <td>13155</td>\n",
       "      <td>NA</td>\n",
       "      <td>NA</td>\n",
       "      <td>41.884005</td>\n",
       "      <td>-87.657031</td>\n",
       "      <td>41.88</td>\n",
       "      <td>-87.66</td>\n",
       "      <td>casual</td>\n",
       "    </tr>\n",
       "    <tr>\n",
       "      <th>11335433</th>\n",
       "      <td>NA</td>\n",
       "      <td>E477C594A182AE58</td>\n",
       "      <td>electric_bike</td>\n",
       "      <td>2022-01-13 17:24:43</td>\n",
       "      <td>2022-01-13 17:28:14</td>\n",
       "      <td>Clinton St &amp; Washington Blvd</td>\n",
       "      <td>WL-012</td>\n",
       "      <td>Desplaines St &amp; Kinzie St</td>\n",
       "      <td>TA1306000003</td>\n",
       "      <td>41.883248</td>\n",
       "      <td>-87.641244</td>\n",
       "      <td>41.888716</td>\n",
       "      <td>-87.644448</td>\n",
       "      <td>casual</td>\n",
       "    </tr>\n",
       "  </tbody>\n",
       "</table>\n",
       "<p>5667717 rows × 14 columns</p>\n",
       "</div>"
      ],
      "text/plain": [
       "         Unnamed: 0           ride_id  rideable_type           started_at  \\\n",
       "5667717          NA  65DBD2F447EC51C2  electric_bike  2022-12-05 10:47:18   \n",
       "5667718          NA  0C201AA7EA0EA1AD   classic_bike  2022-12-18 06:42:33   \n",
       "5667719          NA  E0B148CCB358A49D  electric_bike  2022-12-13 08:47:45   \n",
       "5667720          NA  54C5775D2B7C9188   classic_bike  2022-12-13 18:50:47   \n",
       "5667721          NA  A4891F78776D35DF   classic_bike  2022-12-14 16:13:39   \n",
       "...             ...               ...            ...                  ...   \n",
       "11335429         NA  8788DA3EDE8FD8AB  electric_bike  2022-01-18 12:36:48   \n",
       "11335430         NA  C6C3B64FDC827D8C  electric_bike  2022-01-27 11:00:06   \n",
       "11335431         NA  CA281AE7D8B06F5A  electric_bike  2022-01-10 16:14:51   \n",
       "11335432         NA  44E348991862319B  electric_bike  2022-01-19 13:22:11   \n",
       "11335433         NA  E477C594A182AE58  electric_bike  2022-01-13 17:24:43   \n",
       "\n",
       "                     ended_at            start_station_name start_station_id  \\\n",
       "5667717   2022-12-05 10:56:34    Clifton Ave & Armitage Ave     TA1307000163   \n",
       "5667718   2022-12-18 07:08:44        Broadway & Belmont Ave            13277   \n",
       "5667719   2022-12-13 08:59:51         Sangamon St & Lake St     TA1306000015   \n",
       "5667720   2022-12-13 19:19:48         Shields Ave & 31st St     KA1503000038   \n",
       "5667721   2022-12-14 16:27:50     Ashland Ave & Chicago Ave            13247   \n",
       "...                       ...                           ...              ...   \n",
       "11335429  2022-01-18 12:46:19  Clinton St & Washington Blvd           WL-012   \n",
       "11335430  2022-01-27 11:02:40      Racine Ave & Randolph St            13155   \n",
       "11335431  2022-01-10 16:20:58       Broadway & Waveland Ave            13325   \n",
       "11335432  2022-01-19 13:24:27      Racine Ave & Randolph St            13155   \n",
       "11335433  2022-01-13 17:28:14  Clinton St & Washington Blvd           WL-012   \n",
       "\n",
       "                   end_station_name end_station_id  start_lat  start_lng  \\\n",
       "5667717   Sedgwick St & Webster Ave          13191  41.918244 -87.657115   \n",
       "5667718   Sedgwick St & Webster Ave          13191  41.940106 -87.645451   \n",
       "5667719      St. Clair St & Erie St          13016  41.885919 -87.651133   \n",
       "5667720      Damen Ave & Madison St          13134  41.838464 -87.635406   \n",
       "5667721   Damen Ave & Charleston St          13288  41.895954 -87.667728   \n",
       "...                             ...            ...        ...        ...   \n",
       "11335429                         NA             NA  41.883436 -87.641391   \n",
       "11335430                         NA             NA  41.884158 -87.656977   \n",
       "11335431        Clark St & Grace St   TA1307000127  41.949066 -87.648611   \n",
       "11335432                         NA             NA  41.884005 -87.657031   \n",
       "11335433  Desplaines St & Kinzie St   TA1306000003  41.883248 -87.641244   \n",
       "\n",
       "            end_lat    end_lng member_casual  \n",
       "5667717   41.922167 -87.638888        member  \n",
       "5667718   41.922167 -87.638888        casual  \n",
       "5667719   41.894345 -87.622798        member  \n",
       "5667720    41.88137  -87.67493        member  \n",
       "5667721   41.920082 -87.677855        casual  \n",
       "...             ...        ...           ...  \n",
       "11335429      41.89     -87.62        casual  \n",
       "11335430      41.88     -87.65        casual  \n",
       "11335431   41.95078 -87.659172        casual  \n",
       "11335432      41.88     -87.66        casual  \n",
       "11335433  41.888716 -87.644448        casual  \n",
       "\n",
       "[5667717 rows x 14 columns]"
      ]
     },
     "execution_count": 5,
     "metadata": {},
     "output_type": "execute_result"
    }
   ],
   "source": [
    "# Data Cleaning - Checking for duplicate values in the data set\n",
    "\n",
    "cleaned_annual_data[cleaned_annual_data.duplicated(subset = \"ride_id\") == True]"
   ]
  },
  {
   "cell_type": "code",
   "execution_count": 6,
   "id": "c09352dd",
   "metadata": {},
   "outputs": [],
   "source": [
    "# Preanalysis - Checking for relation between ride_type and member_casual\n",
    "\n",
    "casual_annual_data = cleaned_annual_data[cleaned_annual_data[\"member_casual\"] == \"casual\"]\n",
    "member_annual_data = cleaned_annual_data[cleaned_annual_data[\"member_casual\"] == \"member\"]"
   ]
  },
  {
   "cell_type": "code",
   "execution_count": 9,
   "id": "8e459391",
   "metadata": {},
   "outputs": [
    {
     "data": {
      "text/plain": [
       "electric_bike    2506198\n",
       "classic_bike     1782918\n",
       "docked_bike       354948\n",
       "Name: rideable_type, dtype: int64"
      ]
     },
     "execution_count": 9,
     "metadata": {},
     "output_type": "execute_result"
    }
   ],
   "source": [
    "casual_annual_data[\"rideable_type\"].value_counts()"
   ]
  },
  {
   "cell_type": "code",
   "execution_count": 10,
   "id": "c4ffc860",
   "metadata": {},
   "outputs": [
    {
     "data": {
      "text/plain": [
       "classic_bike     3419510\n",
       "electric_bike    3271860\n",
       "Name: rideable_type, dtype: int64"
      ]
     },
     "execution_count": 10,
     "metadata": {},
     "output_type": "execute_result"
    }
   ],
   "source": [
    "member_annual_data[\"rideable_type\"].value_counts()"
   ]
  },
  {
   "cell_type": "markdown",
   "id": "8b66e64b",
   "metadata": {},
   "source": [
    "1. Find the stations in which docked,electric, classic bikes are used more? -- Done\n",
    "2. Find stations in which casual rides start or end at? -- Done\n",
    "3. Find stations members use more? -- Done\n",
    "4. Find intersectig stations between members and casuals -- need more data\n",
    "5. Find ride length and check whether ride length affects casual or member\n",
    "6. Find which days casual, member ride more\n",
    "7. Find which days casual, member ride more in which station"
   ]
  },
  {
   "cell_type": "code",
   "execution_count": 11,
   "id": "1c71a43f",
   "metadata": {},
   "outputs": [
    {
     "data": {
      "text/plain": [
       "NA                                    694814\n",
       "Streeter Dr & Grand Ave               116190\n",
       "DuSable Lake Shore Dr & Monroe St      63726\n",
       "Millennium Park                        51060\n",
       "Michigan Ave & Oak St                  50530\n",
       "DuSable Lake Shore Dr & North Blvd     47314\n",
       "Name: start_station_name, dtype: int64"
      ]
     },
     "execution_count": 11,
     "metadata": {},
     "output_type": "execute_result"
    }
   ],
   "source": [
    "casual_annual_data[\"start_station_name\"].value_counts().head(6)"
   ]
  },
  {
   "cell_type": "code",
   "execution_count": 12,
   "id": "d0b5556f",
   "metadata": {},
   "outputs": [
    {
     "data": {
      "text/plain": [
       "NA                                    817782\n",
       "Streeter Dr & Grand Ave               119756\n",
       "DuSable Lake Shore Dr & Monroe St      59206\n",
       "Millennium Park                        53356\n",
       "Michigan Ave & Oak St                  52900\n",
       "DuSable Lake Shore Dr & North Blvd     52290\n",
       "Name: end_station_name, dtype: int64"
      ]
     },
     "execution_count": 12,
     "metadata": {},
     "output_type": "execute_result"
    }
   ],
   "source": [
    "casual_annual_data[\"end_station_name\"].value_counts().head(6)"
   ]
  },
  {
   "cell_type": "code",
   "execution_count": 13,
   "id": "9adebaf3",
   "metadata": {},
   "outputs": [
    {
     "data": {
      "text/plain": [
       "NA                              971314\n",
       "Kingsbury St & Kinzie St         49874\n",
       "Clark St & Elm St                44080\n",
       "Wells St & Concord Ln            42596\n",
       "University Ave & 57th St         39906\n",
       "Clinton St & Washington Blvd     39654\n",
       "Name: start_station_name, dtype: int64"
      ]
     },
     "execution_count": 13,
     "metadata": {},
     "output_type": "execute_result"
    }
   ],
   "source": [
    "member_annual_data[\"start_station_name\"].value_counts().head(6)"
   ]
  },
  {
   "cell_type": "code",
   "execution_count": 14,
   "id": "735adb01",
   "metadata": {
    "scrolled": true
   },
   "outputs": [
    {
     "data": {
      "text/plain": [
       "NA                              967702\n",
       "Kingsbury St & Kinzie St         49274\n",
       "Clark St & Elm St                44736\n",
       "Wells St & Concord Ln            43828\n",
       "University Ave & 57th St         41068\n",
       "Clinton St & Washington Blvd     41060\n",
       "Name: end_station_name, dtype: int64"
      ]
     },
     "execution_count": 14,
     "metadata": {},
     "output_type": "execute_result"
    }
   ],
   "source": [
    "member_annual_data[\"end_station_name\"].value_counts().head(6)"
   ]
  },
  {
   "cell_type": "code",
   "execution_count": 15,
   "id": "a6c72097",
   "metadata": {},
   "outputs": [
    {
     "data": {
      "text/plain": [
       "NA                                   694814\n",
       "Streeter Dr & Grand Ave               34306\n",
       "DuSable Lake Shore Dr & Monroe St     19172\n",
       "Millennium Park                       16968\n",
       "Michigan Ave & Oak St                 16400\n",
       "Wells St & Concord Ln                 14834\n",
       "Name: start_station_name, dtype: int64"
      ]
     },
     "execution_count": 15,
     "metadata": {},
     "output_type": "execute_result"
    }
   ],
   "source": [
    "casual_annual_data.groupby([\"rideable_type\"]).get_group(\"electric_bike\")[\"start_station_name\"].value_counts().head(6)"
   ]
  },
  {
   "cell_type": "code",
   "execution_count": 16,
   "id": "c4d59807",
   "metadata": {},
   "outputs": [
    {
     "data": {
      "text/plain": [
       "Streeter Dr & Grand Ave               58308\n",
       "DuSable Lake Shore Dr & Monroe St     30616\n",
       "DuSable Lake Shore Dr & North Blvd    26634\n",
       "Michigan Ave & Oak St                 25738\n",
       "Millennium Park                       22500\n",
       "Theater on the Lake                   20908\n",
       "Name: start_station_name, dtype: int64"
      ]
     },
     "execution_count": 16,
     "metadata": {},
     "output_type": "execute_result"
    }
   ],
   "source": [
    "casual_annual_data.groupby([\"rideable_type\"]).get_group(\"classic_bike\")[\"start_station_name\"].value_counts().head(6)"
   ]
  },
  {
   "cell_type": "code",
   "execution_count": 17,
   "id": "7fbc69cc",
   "metadata": {},
   "outputs": [
    {
     "data": {
      "text/plain": [
       "Streeter Dr & Grand Ave              23576\n",
       "DuSable Lake Shore Dr & Monroe St    13938\n",
       "Millennium Park                      11592\n",
       "Shedd Aquarium                        9316\n",
       "Michigan Ave & Oak St                 8392\n",
       "Dusable Harbor                        6326\n",
       "Name: start_station_name, dtype: int64"
      ]
     },
     "execution_count": 17,
     "metadata": {},
     "output_type": "execute_result"
    }
   ],
   "source": [
    "casual_annual_data.groupby([\"rideable_type\"]).get_group(\"docked_bike\")[\"start_station_name\"].value_counts().head(6)"
   ]
  },
  {
   "cell_type": "code",
   "execution_count": 18,
   "id": "f0bbad3a",
   "metadata": {},
   "outputs": [
    {
     "data": {
      "text/plain": [
       "Unnamed: 0            float64\n",
       "ride_id                object\n",
       "rideable_type          object\n",
       "started_at             object\n",
       "ended_at               object\n",
       "start_station_name     object\n",
       "start_station_id       object\n",
       "end_station_name       object\n",
       "end_station_id         object\n",
       "start_lat             float64\n",
       "start_lng             float64\n",
       "end_lat               float64\n",
       "end_lng               float64\n",
       "member_casual          object\n",
       "dtype: object"
      ]
     },
     "execution_count": 18,
     "metadata": {},
     "output_type": "execute_result"
    }
   ],
   "source": [
    "annual_data.dtypes"
   ]
  },
  {
   "cell_type": "code",
   "execution_count": 7,
   "id": "c3b1fd61",
   "metadata": {},
   "outputs": [
    {
     "data": {
      "text/plain": [
       "Unnamed: 0                   float64\n",
       "ride_id                       object\n",
       "rideable_type                 object\n",
       "started_at            datetime64[ns]\n",
       "ended_at              datetime64[ns]\n",
       "start_station_name            object\n",
       "start_station_id              object\n",
       "end_station_name              object\n",
       "end_station_id                object\n",
       "start_lat                    float64\n",
       "start_lng                    float64\n",
       "end_lat                      float64\n",
       "end_lng                      float64\n",
       "member_casual                 object\n",
       "dtype: object"
      ]
     },
     "execution_count": 7,
     "metadata": {},
     "output_type": "execute_result"
    }
   ],
   "source": [
    "annual_data[\"started_at\"] = pd.to_datetime(annual_data[\"started_at\"])\n",
    "annual_data[\"ended_at\"] = pd.to_datetime(annual_data[\"ended_at\"])\n",
    "annual_data.dtypes"
   ]
  },
  {
   "cell_type": "code",
   "execution_count": 11,
   "id": "adb58eb0",
   "metadata": {},
   "outputs": [
    {
     "data": {
      "text/plain": [
       "Unnamed: 0                    float64\n",
       "ride_id                        object\n",
       "rideable_type                  object\n",
       "started_at             datetime64[ns]\n",
       "ended_at               datetime64[ns]\n",
       "start_station_name             object\n",
       "start_station_id               object\n",
       "end_station_name               object\n",
       "end_station_id                 object\n",
       "start_lat                     float64\n",
       "start_lng                     float64\n",
       "end_lat                       float64\n",
       "end_lng                       float64\n",
       "member_casual                  object\n",
       "ride_length           timedelta64[ns]\n",
       "dtype: object"
      ]
     },
     "execution_count": 11,
     "metadata": {},
     "output_type": "execute_result"
    }
   ],
   "source": [
    "annual_data[\"ride_length\"] = annual_data[\"ended_at\"] - annual_data [\"started_at\"]\n",
    "annual_data.dtypes"
   ]
  },
  {
   "cell_type": "code",
   "execution_count": 12,
   "id": "8db42c93",
   "metadata": {},
   "outputs": [
    {
     "name": "stdout",
     "output_type": "stream",
     "text": [
      "<class 'pandas.core.series.Series'>\n"
     ]
    }
   ],
   "source": [
    "annual_data['ride_length'] = annual_data['ride_length'].astype(str)\n",
    "print(type(annual_data['ride_length']))"
   ]
  },
  {
   "cell_type": "code",
   "execution_count": 13,
   "id": "00fab796",
   "metadata": {},
   "outputs": [],
   "source": [
    "annual_data['ride_length'] = annual_data['ride_length'].str.replace(\" days \", \":\")"
   ]
  },
  {
   "cell_type": "code",
   "execution_count": 17,
   "id": "dce3510c",
   "metadata": {},
   "outputs": [
    {
     "ename": "KeyboardInterrupt",
     "evalue": "",
     "output_type": "error",
     "traceback": [
      "\u001b[1;31m---------------------------------------------------------------------------\u001b[0m",
      "\u001b[1;31mKeyboardInterrupt\u001b[0m                         Traceback (most recent call last)",
      "File \u001b[1;32m~\\anaconda3\\lib\\site-packages\\pandas\\core\\strings\\object_array.py:71\u001b[0m, in \u001b[0;36mObjectStringArrayMixin._str_map\u001b[1;34m(self, f, na_value, dtype, convert)\u001b[0m\n\u001b[0;32m     70\u001b[0m \u001b[38;5;28;01mtry\u001b[39;00m:\n\u001b[1;32m---> 71\u001b[0m     result \u001b[38;5;241m=\u001b[39m \u001b[43mlib\u001b[49m\u001b[38;5;241;43m.\u001b[39;49m\u001b[43mmap_infer_mask\u001b[49m\u001b[43m(\u001b[49m\u001b[43marr\u001b[49m\u001b[43m,\u001b[49m\u001b[43m \u001b[49m\u001b[43mf\u001b[49m\u001b[43m,\u001b[49m\u001b[43m \u001b[49m\u001b[43mmask\u001b[49m\u001b[38;5;241;43m.\u001b[39;49m\u001b[43mview\u001b[49m\u001b[43m(\u001b[49m\u001b[43mnp\u001b[49m\u001b[38;5;241;43m.\u001b[39;49m\u001b[43muint8\u001b[49m\u001b[43m)\u001b[49m\u001b[43m,\u001b[49m\u001b[43m \u001b[49m\u001b[43mmap_convert\u001b[49m\u001b[43m)\u001b[49m\n\u001b[0;32m     72\u001b[0m \u001b[38;5;28;01mexcept\u001b[39;00m (\u001b[38;5;167;01mTypeError\u001b[39;00m, \u001b[38;5;167;01mAttributeError\u001b[39;00m) \u001b[38;5;28;01mas\u001b[39;00m err:\n\u001b[0;32m     73\u001b[0m     \u001b[38;5;66;03m# Reraise the exception if callable `f` got wrong number of args.\u001b[39;00m\n\u001b[0;32m     74\u001b[0m     \u001b[38;5;66;03m# The user may want to be warned by this, instead of getting NaN\u001b[39;00m\n",
      "File \u001b[1;32m~\\anaconda3\\lib\\site-packages\\pandas\\_libs\\lib.pyx:2822\u001b[0m, in \u001b[0;36mpandas._libs.lib.map_infer_mask\u001b[1;34m()\u001b[0m\n",
      "File \u001b[1;32m~\\anaconda3\\lib\\site-packages\\pandas\\core\\strings\\object_array.py:340\u001b[0m, in \u001b[0;36mObjectStringArrayMixin._str_split.<locals>.<lambda>\u001b[1;34m(x)\u001b[0m\n\u001b[0;32m    339\u001b[0m             n \u001b[38;5;241m=\u001b[39m \u001b[38;5;241m-\u001b[39m\u001b[38;5;241m1\u001b[39m\n\u001b[1;32m--> 340\u001b[0m         f \u001b[38;5;241m=\u001b[39m \u001b[38;5;28;01mlambda\u001b[39;00m x: x\u001b[38;5;241m.\u001b[39msplit(pat, n)\n\u001b[0;32m    341\u001b[0m \u001b[38;5;28;01mreturn\u001b[39;00m \u001b[38;5;28mself\u001b[39m\u001b[38;5;241m.\u001b[39m_str_map(f, dtype\u001b[38;5;241m=\u001b[39m\u001b[38;5;28mobject\u001b[39m)\n",
      "\u001b[1;31mKeyboardInterrupt\u001b[0m: ",
      "\nDuring handling of the above exception, another exception occurred:\n",
      "\u001b[1;31mKeyboardInterrupt\u001b[0m                         Traceback (most recent call last)",
      "Input \u001b[1;32mIn [17]\u001b[0m, in \u001b[0;36m<cell line: 1>\u001b[1;34m()\u001b[0m\n\u001b[1;32m----> 1\u001b[0m annual_data[\u001b[38;5;124m'\u001b[39m\u001b[38;5;124mride_length_min\u001b[39m\u001b[38;5;124m'\u001b[39m] \u001b[38;5;241m=\u001b[39m \u001b[43mannual_data\u001b[49m\u001b[43m[\u001b[49m\u001b[38;5;124;43m'\u001b[39;49m\u001b[38;5;124;43mride_length\u001b[39;49m\u001b[38;5;124;43m'\u001b[39;49m\u001b[43m]\u001b[49m\u001b[38;5;241;43m.\u001b[39;49m\u001b[43mstr\u001b[49m\u001b[38;5;241;43m.\u001b[39;49m\u001b[43msplit\u001b[49m\u001b[43m(\u001b[49m\u001b[38;5;124;43m\"\u001b[39;49m\u001b[38;5;124;43m:\u001b[39;49m\u001b[38;5;124;43m\"\u001b[39;49m\u001b[43m)\u001b[49m\u001b[38;5;241m.\u001b[39mapply(\u001b[38;5;28;01mlambda\u001b[39;00m x : \u001b[38;5;28mint\u001b[39m(x[\u001b[38;5;241m0\u001b[39m])\u001b[38;5;241m*\u001b[39m\u001b[38;5;241m24\u001b[39m\u001b[38;5;241m*\u001b[39m\u001b[38;5;241m60\u001b[39m \u001b[38;5;241m+\u001b[39m \u001b[38;5;28mint\u001b[39m(x[\u001b[38;5;241m1\u001b[39m])\u001b[38;5;241m*\u001b[39m\u001b[38;5;241m60\u001b[39m \u001b[38;5;241m+\u001b[39m \u001b[38;5;28mint\u001b[39m(x[\u001b[38;5;241m2\u001b[39m]) \u001b[38;5;241m+\u001b[39m \u001b[38;5;28mint\u001b[39m(\u001b[38;5;28mint\u001b[39m(x[\u001b[38;5;241m3\u001b[39m])\u001b[38;5;241m/\u001b[39m\u001b[38;5;241m60\u001b[39m))\n",
      "File \u001b[1;32m~\\anaconda3\\lib\\site-packages\\pandas\\core\\strings\\accessor.py:125\u001b[0m, in \u001b[0;36mforbid_nonstring_types.<locals>._forbid_nonstring_types.<locals>.wrapper\u001b[1;34m(self, *args, **kwargs)\u001b[0m\n\u001b[0;32m    120\u001b[0m     msg \u001b[38;5;241m=\u001b[39m (\n\u001b[0;32m    121\u001b[0m         \u001b[38;5;124mf\u001b[39m\u001b[38;5;124m\"\u001b[39m\u001b[38;5;124mCannot use .str.\u001b[39m\u001b[38;5;132;01m{\u001b[39;00mfunc_name\u001b[38;5;132;01m}\u001b[39;00m\u001b[38;5;124m with values of \u001b[39m\u001b[38;5;124m\"\u001b[39m\n\u001b[0;32m    122\u001b[0m         \u001b[38;5;124mf\u001b[39m\u001b[38;5;124m\"\u001b[39m\u001b[38;5;124minferred dtype \u001b[39m\u001b[38;5;124m'\u001b[39m\u001b[38;5;132;01m{\u001b[39;00m\u001b[38;5;28mself\u001b[39m\u001b[38;5;241m.\u001b[39m_inferred_dtype\u001b[38;5;132;01m}\u001b[39;00m\u001b[38;5;124m'\u001b[39m\u001b[38;5;124m.\u001b[39m\u001b[38;5;124m\"\u001b[39m\n\u001b[0;32m    123\u001b[0m     )\n\u001b[0;32m    124\u001b[0m     \u001b[38;5;28;01mraise\u001b[39;00m \u001b[38;5;167;01mTypeError\u001b[39;00m(msg)\n\u001b[1;32m--> 125\u001b[0m \u001b[38;5;28;01mreturn\u001b[39;00m func(\u001b[38;5;28mself\u001b[39m, \u001b[38;5;241m*\u001b[39margs, \u001b[38;5;241m*\u001b[39m\u001b[38;5;241m*\u001b[39mkwargs)\n",
      "File \u001b[1;32m~\\anaconda3\\lib\\site-packages\\pandas\\core\\strings\\accessor.py:850\u001b[0m, in \u001b[0;36mStringMethods.split\u001b[1;34m(self, pat, n, expand, regex)\u001b[0m\n\u001b[0;32m    848\u001b[0m \u001b[38;5;28;01mif\u001b[39;00m is_re(pat):\n\u001b[0;32m    849\u001b[0m     regex \u001b[38;5;241m=\u001b[39m \u001b[38;5;28;01mTrue\u001b[39;00m\n\u001b[1;32m--> 850\u001b[0m result \u001b[38;5;241m=\u001b[39m \u001b[38;5;28;43mself\u001b[39;49m\u001b[38;5;241;43m.\u001b[39;49m\u001b[43m_data\u001b[49m\u001b[38;5;241;43m.\u001b[39;49m\u001b[43marray\u001b[49m\u001b[38;5;241;43m.\u001b[39;49m\u001b[43m_str_split\u001b[49m\u001b[43m(\u001b[49m\u001b[43mpat\u001b[49m\u001b[43m,\u001b[49m\u001b[43m \u001b[49m\u001b[43mn\u001b[49m\u001b[43m,\u001b[49m\u001b[43m \u001b[49m\u001b[43mexpand\u001b[49m\u001b[43m,\u001b[49m\u001b[43m \u001b[49m\u001b[43mregex\u001b[49m\u001b[43m)\u001b[49m\n\u001b[0;32m    851\u001b[0m \u001b[38;5;28;01mreturn\u001b[39;00m \u001b[38;5;28mself\u001b[39m\u001b[38;5;241m.\u001b[39m_wrap_result(result, returns_string\u001b[38;5;241m=\u001b[39mexpand, expand\u001b[38;5;241m=\u001b[39mexpand)\n",
      "File \u001b[1;32m~\\anaconda3\\lib\\site-packages\\pandas\\core\\strings\\object_array.py:341\u001b[0m, in \u001b[0;36mObjectStringArrayMixin._str_split\u001b[1;34m(self, pat, n, expand, regex)\u001b[0m\n\u001b[0;32m    339\u001b[0m             n \u001b[38;5;241m=\u001b[39m \u001b[38;5;241m-\u001b[39m\u001b[38;5;241m1\u001b[39m\n\u001b[0;32m    340\u001b[0m         f \u001b[38;5;241m=\u001b[39m \u001b[38;5;28;01mlambda\u001b[39;00m x: x\u001b[38;5;241m.\u001b[39msplit(pat, n)\n\u001b[1;32m--> 341\u001b[0m \u001b[38;5;28;01mreturn\u001b[39;00m \u001b[38;5;28;43mself\u001b[39;49m\u001b[38;5;241;43m.\u001b[39;49m\u001b[43m_str_map\u001b[49m\u001b[43m(\u001b[49m\u001b[43mf\u001b[49m\u001b[43m,\u001b[49m\u001b[43m \u001b[49m\u001b[43mdtype\u001b[49m\u001b[38;5;241;43m=\u001b[39;49m\u001b[38;5;28;43mobject\u001b[39;49m\u001b[43m)\u001b[49m\n",
      "File \u001b[1;32m~\\anaconda3\\lib\\site-packages\\pandas\\core\\strings\\object_array.py:72\u001b[0m, in \u001b[0;36mObjectStringArrayMixin._str_map\u001b[1;34m(self, f, na_value, dtype, convert)\u001b[0m\n\u001b[0;32m     70\u001b[0m \u001b[38;5;28;01mtry\u001b[39;00m:\n\u001b[0;32m     71\u001b[0m     result \u001b[38;5;241m=\u001b[39m lib\u001b[38;5;241m.\u001b[39mmap_infer_mask(arr, f, mask\u001b[38;5;241m.\u001b[39mview(np\u001b[38;5;241m.\u001b[39muint8), map_convert)\n\u001b[1;32m---> 72\u001b[0m \u001b[38;5;28;01mexcept\u001b[39;00m (\u001b[38;5;167;43;01mTypeError\u001b[39;49;00m, \u001b[38;5;167;01mAttributeError\u001b[39;00m) \u001b[38;5;28;01mas\u001b[39;00m err:\n\u001b[0;32m     73\u001b[0m     \u001b[38;5;66;03m# Reraise the exception if callable `f` got wrong number of args.\u001b[39;00m\n\u001b[0;32m     74\u001b[0m     \u001b[38;5;66;03m# The user may want to be warned by this, instead of getting NaN\u001b[39;00m\n\u001b[0;32m     75\u001b[0m     p_err \u001b[38;5;241m=\u001b[39m (\n\u001b[0;32m     76\u001b[0m         \u001b[38;5;124mr\u001b[39m\u001b[38;5;124m\"\u001b[39m\u001b[38;5;124m((takes)|(missing)) (?(2)from \u001b[39m\u001b[38;5;124m\\\u001b[39m\u001b[38;5;124md+ to )?\u001b[39m\u001b[38;5;124m\\\u001b[39m\u001b[38;5;124md+ \u001b[39m\u001b[38;5;124m\"\u001b[39m\n\u001b[0;32m     77\u001b[0m         \u001b[38;5;124mr\u001b[39m\u001b[38;5;124m\"\u001b[39m\u001b[38;5;124m(?(3)required )positional arguments?\u001b[39m\u001b[38;5;124m\"\u001b[39m\n\u001b[0;32m     78\u001b[0m     )\n\u001b[0;32m     80\u001b[0m     \u001b[38;5;28;01mif\u001b[39;00m \u001b[38;5;28mlen\u001b[39m(err\u001b[38;5;241m.\u001b[39margs) \u001b[38;5;241m>\u001b[39m\u001b[38;5;241m=\u001b[39m \u001b[38;5;241m1\u001b[39m \u001b[38;5;129;01mand\u001b[39;00m re\u001b[38;5;241m.\u001b[39msearch(p_err, err\u001b[38;5;241m.\u001b[39margs[\u001b[38;5;241m0\u001b[39m]):\n\u001b[0;32m     81\u001b[0m         \u001b[38;5;66;03m# FIXME: this should be totally avoidable\u001b[39;00m\n",
      "\u001b[1;31mKeyboardInterrupt\u001b[0m: "
     ]
    }
   ],
   "source": [
    "annual_data['ride_length_min'] = annual_data['ride_length'].str.split(\":\").apply(lambda x : int(x[0])*24*60 + int(x[1])*60 + int(x[2]) + int(int(x[3])/60))"
   ]
  },
  {
   "cell_type": "code",
   "execution_count": null,
   "id": "8d1d0d81",
   "metadata": {},
   "outputs": [],
   "source": [
    "annual_data"
   ]
  }
 ],
 "metadata": {
  "kernelspec": {
   "display_name": "Python 3 (ipykernel)",
   "language": "python",
   "name": "python3"
  },
  "language_info": {
   "codemirror_mode": {
    "name": "ipython",
    "version": 3
   },
   "file_extension": ".py",
   "mimetype": "text/x-python",
   "name": "python",
   "nbconvert_exporter": "python",
   "pygments_lexer": "ipython3",
   "version": "3.9.12"
  }
 },
 "nbformat": 4,
 "nbformat_minor": 5
}
